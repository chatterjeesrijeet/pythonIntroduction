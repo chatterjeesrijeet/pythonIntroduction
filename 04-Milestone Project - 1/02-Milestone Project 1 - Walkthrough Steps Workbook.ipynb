{
 "cells": [
  {
   "cell_type": "markdown",
   "metadata": {},
   "source": [
    "# Milestone Project 1: Walkthrough Steps Workbook\n",
    "\n",
    "Below is a set of steps for you to follow to try to create the Tic Tac Toe Milestone Project game!"
   ]
  },
  {
   "cell_type": "markdown",
   "metadata": {},
   "source": [
    "#### Some suggested tools before you get started:\n",
    "To take input from a user:\n",
    "\n",
    "    player1 = input(\"Please pick a marker 'X' or 'O'\")\n",
    "    \n",
    "Note that input() takes in a string. If you need an integer value, use\n",
    "\n",
    "    position = int(input('Please enter a number'))\n",
    "    \n",
    "<br>To clear the screen between moves:\n",
    "\n",
    "    from IPython.display import clear_output\n",
    "    clear_output()\n",
    "    \n",
    "Note that clear_output() will only work in jupyter. To clear the screen in other IDEs, consider:\n",
    "\n",
    "    print('\\n'*100)\n",
    "    \n",
    "This scrolls the previous board up out of view. Now on to the program!"
   ]
  },
  {
   "cell_type": "markdown",
   "metadata": {},
   "source": [
    "**Step 1: Write a function that can print out a board. Set up your board as a list, where each index 1-9 corresponds with a number on a number pad, so you get a 3 by 3 board representation.**"
   ]
  },
  {
   "cell_type": "code",
   "execution_count": 6,
   "metadata": {},
   "outputs": [],
   "source": [
    "from IPython.display import clear_output\n",
    "\n",
    "def display_board(board):\n",
    "    for i in range(11):\n",
    "        for j in range(12):\n",
    "            if i == 1 and j == 1 :\n",
    "                print(f'{board[1]}',end ='')\n",
    "            elif i ==1 and j == 5:\n",
    "                print(f'{board[2]}',end ='')\n",
    "            elif i ==1 and j == 9:\n",
    "                print(f'{board[3]}',end ='')\n",
    "            elif i == 5 and j == 1:\n",
    "                print(f'{board[4]}',end ='')\n",
    "            elif i == 5 and j == 5:\n",
    "                print(f'{board[5]}',end ='')\n",
    "            elif i == 5 and j == 9:\n",
    "                print(f'{board[6]}',end ='')\n",
    "            elif i ==9 and j == 1:\n",
    "                print(f'{board[7]}',end ='')\n",
    "            elif i ==9 and j == 5:\n",
    "                print(f'{board[8]}',end ='')\n",
    "            elif i ==9 and j == 9:\n",
    "                print(f'{board[9]}',end ='')\n",
    "            elif i==3 or i == 7 :\n",
    "                if j != 3 and j != 7:\n",
    "                    #print(f\"{i}&{j}\",end='')\n",
    "                    print('-',end = '')\n",
    "            elif(j == 3 or j ==7):\n",
    "                #print(f'{i}&{j}',end='')\n",
    "                print('|',end ='')\n",
    "            else:\n",
    "                print(' ',end = '')\n",
    "        print('\\n')"
   ]
  },
  {
   "cell_type": "markdown",
   "metadata": {},
   "source": [
    "**TEST Step 1:** run your function on a test version of the board list, and make adjustments as necessary"
   ]
  },
  {
   "cell_type": "code",
   "execution_count": 7,
   "metadata": {},
   "outputs": [
    {
     "name": "stdout",
     "output_type": "stream",
     "text": [
      "   |   |    \n",
      "\n",
      " X | O | X  \n",
      "\n",
      "   |   |    \n",
      "\n",
      "----------\n",
      "\n",
      "   |   |    \n",
      "\n",
      " O | X | O  \n",
      "\n",
      "   |   |    \n",
      "\n",
      "----------\n",
      "\n",
      "   |   |    \n",
      "\n",
      " X | O | X  \n",
      "\n",
      "   |   |    \n",
      "\n"
     ]
    }
   ],
   "source": [
    "test_board = ['#','X','O','X','O','X','O','X','O','X']\n",
    "display_board(test_board)"
   ]
  },
  {
   "cell_type": "markdown",
   "metadata": {},
   "source": [
    "**Step 2: Write a function that can take in a player input and assign their marker as 'X' or 'O'. Think about using *while* loops to continually ask until you get a correct answer.**"
   ]
  },
  {
   "cell_type": "code",
   "execution_count": 8,
   "metadata": {},
   "outputs": [],
   "source": [
    "def player_input():\n",
    "    while True:\n",
    "        x = int(input('Please enter a valid number from 1-9'))\n",
    "        if x < 10 and x > 0:\n",
    "            return x\n",
    "            break\n",
    "        else:\n",
    "            continue"
   ]
  },
  {
   "cell_type": "markdown",
   "metadata": {},
   "source": [
    "**TEST Step 2:** run the function to make sure it returns the desired output"
   ]
  },
  {
   "cell_type": "code",
   "execution_count": 9,
   "metadata": {},
   "outputs": [
    {
     "name": "stdout",
     "output_type": "stream",
     "text": [
      "Please enter a valid number from 1-94\n"
     ]
    },
    {
     "data": {
      "text/plain": [
       "4"
      ]
     },
     "execution_count": 9,
     "metadata": {},
     "output_type": "execute_result"
    }
   ],
   "source": [
    "player_input()"
   ]
  },
  {
   "cell_type": "markdown",
   "metadata": {},
   "source": [
    "**Step 3: Write a function that takes in the board list object, a marker ('X' or 'O'), and a desired position (number 1-9) and assigns it to the board.**"
   ]
  },
  {
   "cell_type": "code",
   "execution_count": 10,
   "metadata": {},
   "outputs": [],
   "source": [
    "def place_marker(board, marker, position):\n",
    "    board[position] = marker"
   ]
  },
  {
   "cell_type": "markdown",
   "metadata": {},
   "source": [
    "**TEST Step 3:** run the place marker function using test parameters and display the modified board"
   ]
  },
  {
   "cell_type": "code",
   "execution_count": 11,
   "metadata": {},
   "outputs": [
    {
     "name": "stdout",
     "output_type": "stream",
     "text": [
      "   |   |    \n",
      "\n",
      " X | O | X  \n",
      "\n",
      "   |   |    \n",
      "\n",
      "----------\n",
      "\n",
      "   |   |    \n",
      "\n",
      " O | X | O  \n",
      "\n",
      "   |   |    \n",
      "\n",
      "----------\n",
      "\n",
      "   |   |    \n",
      "\n",
      " X | $ | X  \n",
      "\n",
      "   |   |    \n",
      "\n"
     ]
    }
   ],
   "source": [
    "place_marker(test_board,'$',8)\n",
    "display_board(test_board)"
   ]
  },
  {
   "cell_type": "markdown",
   "metadata": {},
   "source": [
    "**Step 4: Write a function that takes in a board and a mark (X or O) and then checks to see if that mark has won. **"
   ]
  },
  {
   "cell_type": "code",
   "execution_count": 12,
   "metadata": {},
   "outputs": [],
   "source": [
    "def win_check(board, mark):\n",
    "    if board[1]==board[2]==board[3]==mark:\n",
    "        return True\n",
    "    elif board[4]==board[5]==board[6]==mark:\n",
    "        return True\n",
    "    elif board[7]==board[8]==board[9]==mark:\n",
    "        return True\n",
    "    elif board[1]==board[4]==board[7]==mark:\n",
    "        return True\n",
    "    elif board[2]==board[5]==board[8]==mark:\n",
    "        return True\n",
    "    elif board[3]==board[6]==board[9]==mark:\n",
    "        return True\n",
    "    elif board[1]==board[5]==board[9]==mark:\n",
    "        return True\n",
    "    elif board[3]==board[5]==board[7]==mark:\n",
    "        return True\n",
    "    else:\n",
    "        return False"
   ]
  },
  {
   "cell_type": "markdown",
   "metadata": {},
   "source": [
    "**TEST Step 4:** run the win_check function against our test_board - it should return True"
   ]
  },
  {
   "cell_type": "code",
   "execution_count": 13,
   "metadata": {},
   "outputs": [
    {
     "name": "stdout",
     "output_type": "stream",
     "text": [
      "   |   |    \n",
      "\n",
      " X | O | X  \n",
      "\n",
      "   |   |    \n",
      "\n",
      "----------\n",
      "\n",
      "   |   |    \n",
      "\n",
      " O | O | O  \n",
      "\n",
      "   |   |    \n",
      "\n",
      "----------\n",
      "\n",
      "   |   |    \n",
      "\n",
      " X | O | X  \n",
      "\n",
      "   |   |    \n",
      "\n"
     ]
    },
    {
     "data": {
      "text/plain": [
       "True"
      ]
     },
     "execution_count": 13,
     "metadata": {},
     "output_type": "execute_result"
    }
   ],
   "source": [
    "test_board = ['#','X','O','X','O','O','O','X','O','X']\n",
    "display_board(test_board)\n",
    "win_check(test_board,'O')"
   ]
  },
  {
   "cell_type": "markdown",
   "metadata": {},
   "source": [
    "**Step 5: Write a function that uses the random module to randomly decide which player goes first. You may want to lookup random.randint() Return a string of which player went first.**"
   ]
  },
  {
   "cell_type": "code",
   "execution_count": 14,
   "metadata": {},
   "outputs": [],
   "source": [
    "import random\n",
    "\n",
    "def choose_first():\n",
    "    playerNum = random.randint(1,2)\n",
    "    return playerNum\n",
    "    #print(playerNum)\n",
    "#choose_first()"
   ]
  },
  {
   "cell_type": "markdown",
   "metadata": {},
   "source": [
    "**Step 6: Write a function that returns a boolean indicating whether a space on the board is freely available.**"
   ]
  },
  {
   "cell_type": "code",
   "execution_count": 15,
   "metadata": {},
   "outputs": [
    {
     "name": "stdout",
     "output_type": "stream",
     "text": [
      "   |   |    \n",
      "\n",
      "   | O | X  \n",
      "\n",
      "   |   |    \n",
      "\n",
      "----------\n",
      "\n",
      "   |   |    \n",
      "\n",
      " O | O | O  \n",
      "\n",
      "   |   |    \n",
      "\n",
      "----------\n",
      "\n",
      "   |   |    \n",
      "\n",
      " X | O | X  \n",
      "\n",
      "   |   |    \n",
      "\n"
     ]
    },
    {
     "data": {
      "text/plain": [
       "True"
      ]
     },
     "execution_count": 15,
     "metadata": {},
     "output_type": "execute_result"
    }
   ],
   "source": [
    "def space_check(board, position):\n",
    "    return board[position]==' '\n",
    "\n",
    "test_board = ['#',' ','O','X','O','O','O','X','O','X']\n",
    "display_board(test_board)\n",
    "\n",
    "space_check(test_board,1)"
   ]
  },
  {
   "cell_type": "markdown",
   "metadata": {},
   "source": [
    "**Step 7: Write a function that checks if the board is full and returns a boolean value. True if full, False otherwise.**"
   ]
  },
  {
   "cell_type": "code",
   "execution_count": 16,
   "metadata": {},
   "outputs": [
    {
     "data": {
      "text/plain": [
       "False"
      ]
     },
     "execution_count": 16,
     "metadata": {},
     "output_type": "execute_result"
    }
   ],
   "source": [
    "def full_board_check(board):\n",
    "    for x in board:\n",
    "        if x == '#':\n",
    "            #print(x)\n",
    "            continue\n",
    "        elif x == ' ':\n",
    "            #print(x)\n",
    "            return False\n",
    "        else:\n",
    "            continue\n",
    "    return True\n",
    "\n",
    "test_board = ['#','X','O','X',' ','O','O','X','O','X']\n",
    "full_board_check(test_board)"
   ]
  },
  {
   "cell_type": "markdown",
   "metadata": {},
   "source": [
    "**Step 8: Write a function that asks for a player's next position (as a number 1-9) and then uses the function from step 6 to check if it's a free position. If it is, then return the position for later use.**"
   ]
  },
  {
   "cell_type": "code",
   "execution_count": 17,
   "metadata": {},
   "outputs": [
    {
     "name": "stdout",
     "output_type": "stream",
     "text": [
      "Please enter a valid number from 1-93\n"
     ]
    },
    {
     "data": {
      "text/plain": [
       "-99"
      ]
     },
     "execution_count": 17,
     "metadata": {},
     "output_type": "execute_result"
    }
   ],
   "source": [
    "def player_choice(board):\n",
    "    x = player_input()\n",
    "    if space_check(board, x) == True:\n",
    "        return x\n",
    "    else:\n",
    "        return -99\n",
    "    \n",
    "test_board = ['#',' ','O','X',' ','O','O','X','O','X']\n",
    "player_choice(test_board)"
   ]
  },
  {
   "cell_type": "markdown",
   "metadata": {},
   "source": [
    "**Step 9: Write a function that asks the player if they want to play again and returns a boolean True if they do want to play again.**"
   ]
  },
  {
   "cell_type": "code",
   "execution_count": 18,
   "metadata": {},
   "outputs": [
    {
     "name": "stdout",
     "output_type": "stream",
     "text": [
      "Do you want to play again write Y for yes and N for No\n"
     ]
    },
    {
     "data": {
      "text/plain": [
       "False"
      ]
     },
     "execution_count": 18,
     "metadata": {},
     "output_type": "execute_result"
    }
   ],
   "source": [
    "def replay():\n",
    "    var = input('Do you want to play again write Y for yes and N for No')\n",
    "    if var == 'Y':\n",
    "        return True\n",
    "    else:\n",
    "        return False\n",
    "    \n",
    "replay()"
   ]
  },
  {
   "cell_type": "markdown",
   "metadata": {
    "collapsed": true
   },
   "source": [
    "**Step 10: Here comes the hard part! Use while loops and the functions you've made to run the game!**"
   ]
  },
  {
   "cell_type": "code",
   "execution_count": 19,
   "metadata": {},
   "outputs": [
    {
     "name": "stdout",
     "output_type": "stream",
     "text": [
      "\n",
      "Lets decide Randomly who will make the first move\n",
      "\n",
      "Player_2 will make the First Move\n",
      "Please choose 'X' or 'O' as you symbolX\n",
      "\n",
      "\t Player_2 your symbol will be X\n",
      "\n",
      "\tSo Player_1 your symbol will be O\n",
      "Please enter a valid number from 1-91\n",
      "   |   |    \n",
      "\n",
      " X |   |    \n",
      "\n",
      "   |   |    \n",
      "\n",
      "----------\n",
      "\n",
      "   |   |    \n",
      "\n",
      "   |   |    \n",
      "\n",
      "   |   |    \n",
      "\n",
      "----------\n",
      "\n",
      "   |   |    \n",
      "\n",
      "   |   |    \n",
      "\n",
      "   |   |    \n",
      "\n",
      "Please enter a valid number from 1-92\n",
      "   |   |    \n",
      "\n",
      " X | O |    \n",
      "\n",
      "   |   |    \n",
      "\n",
      "----------\n",
      "\n",
      "   |   |    \n",
      "\n",
      "   |   |    \n",
      "\n",
      "   |   |    \n",
      "\n",
      "----------\n",
      "\n",
      "   |   |    \n",
      "\n",
      "   |   |    \n",
      "\n",
      "   |   |    \n",
      "\n",
      "Please enter a valid number from 1-95\n",
      "   |   |    \n",
      "\n",
      " X | O |    \n",
      "\n",
      "   |   |    \n",
      "\n",
      "----------\n",
      "\n",
      "   |   |    \n",
      "\n",
      "   | X |    \n",
      "\n",
      "   |   |    \n",
      "\n",
      "----------\n",
      "\n",
      "   |   |    \n",
      "\n",
      "   |   |    \n",
      "\n",
      "   |   |    \n",
      "\n",
      "Please enter a valid number from 1-93\n",
      "   |   |    \n",
      "\n",
      " X | O | O  \n",
      "\n",
      "   |   |    \n",
      "\n",
      "----------\n",
      "\n",
      "   |   |    \n",
      "\n",
      "   | X |    \n",
      "\n",
      "   |   |    \n",
      "\n",
      "----------\n",
      "\n",
      "   |   |    \n",
      "\n",
      "   |   |    \n",
      "\n",
      "   |   |    \n",
      "\n",
      "Please enter a valid number from 1-92\n",
      "Player_2 Please enter a position which is empty\n",
      "Please enter a valid number from 1-94\n",
      "   |   |    \n",
      "\n",
      " X | O | O  \n",
      "\n",
      "   |   |    \n",
      "\n",
      "----------\n",
      "\n",
      "   |   |    \n",
      "\n",
      " X | X |    \n",
      "\n",
      "   |   |    \n",
      "\n",
      "----------\n",
      "\n",
      "   |   |    \n",
      "\n",
      "   |   |    \n",
      "\n",
      "   |   |    \n",
      "\n",
      "Please enter a valid number from 1-98\n",
      "   |   |    \n",
      "\n",
      " X | O | O  \n",
      "\n",
      "   |   |    \n",
      "\n",
      "----------\n",
      "\n",
      "   |   |    \n",
      "\n",
      " X | X |    \n",
      "\n",
      "   |   |    \n",
      "\n",
      "----------\n",
      "\n",
      "   |   |    \n",
      "\n",
      "   | O |    \n",
      "\n",
      "   |   |    \n",
      "\n",
      "Please enter a valid number from 1-99\n",
      "   |   |    \n",
      "\n",
      " X | O | O  \n",
      "\n",
      "   |   |    \n",
      "\n",
      "----------\n",
      "\n",
      "   |   |    \n",
      "\n",
      " X | X |    \n",
      "\n",
      "   |   |    \n",
      "\n",
      "----------\n",
      "\n",
      "   |   |    \n",
      "\n",
      "   | O | X  \n",
      "\n",
      "   |   |    \n",
      "\n",
      "You have won Player_2\n",
      "Do you want to play again write Y for yes and N for NoN\n"
     ]
    }
   ],
   "source": [
    "## print('Welcome to Tic Tac Toe!')\n",
    "\n",
    "test_board = ['#',' ',' ',' ',' ',' ',' ',' ',' ',' ']\n",
    "\n",
    "while True:\n",
    "    \n",
    "    # Set the game up here\n",
    "    test_board = ['#',' ',' ',' ',' ',' ',' ',' ',' ',' ']\n",
    "    #display_board(test_board)\n",
    "    \n",
    "    player_1_no = None\n",
    "    player_2_no = None\n",
    "    \n",
    "    player_1_symbol = ''\n",
    "    player_2_symbol = ''\n",
    "    \n",
    "    print('\\nLets decide Randomly who will make the first move')\n",
    "    \n",
    "    player_1_no = choose_first()\n",
    "    print(f'\\nPlayer_{player_1_no} will make the First Move')\n",
    "    \n",
    "    if player_1_no == 1:\n",
    "        player_2_no = 2\n",
    "    else:\n",
    "        player_2_no = 1\n",
    "\n",
    "    player_1_symbol = input(\"Please choose 'X' or 'O' as you symbol\")\n",
    "    print(f'\\n\\t Player_{player_1_no} your symbol will be {player_1_symbol}')\n",
    "    \n",
    "    if player_1_symbol == 'X':\n",
    "        player_2_symbol = 'O'\n",
    "    else:\n",
    "        player_2_symbol = 'X'\n",
    "    \n",
    "    print(f'\\n\\tSo Player_{player_2_no} your symbol will be {player_2_symbol}')\n",
    "\n",
    "    #while game_on:\n",
    "    while win_check(test_board,player_1_symbol) == False and win_check(test_board,player_2_symbol) == False and full_board_check(test_board) == False:\n",
    "        \n",
    "        #Player 1 Turn\n",
    "        position = player_choice(test_board)\n",
    "        while position == -99:\n",
    "            print(f'Player_{player_1_no} Please enter a position which is empty')\n",
    "            position = player_choice(test_board)\n",
    "        \n",
    "        place_marker(test_board,player_1_symbol,position)\n",
    "        display_board(test_board)\n",
    "        if win_check(test_board,player_1_symbol) == True:\n",
    "            print(f'You have won Player_{player_1_no}')\n",
    "            break\n",
    "        \n",
    "        # Player2's turn.\n",
    "        position = player_choice(test_board)\n",
    "        while position == -99:\n",
    "            print(f'Player_{player_2_no} Please enter a position which is empty')\n",
    "            position = player_choice(test_board)\n",
    "        \n",
    "        place_marker(test_board,player_2_symbol,position)\n",
    "        display_board(test_board)\n",
    "        if win_check(test_board,player_2_symbol) == True:\n",
    "            print(f'You have won Player_{player_2_no}')\n",
    "            break\n",
    "    \n",
    "    if full_board_check(test_board) == True:\n",
    "        print('Its a Draw !!!')\n",
    "        \n",
    "    if not replay():\n",
    "        break"
   ]
  },
  {
   "cell_type": "markdown",
   "metadata": {
    "collapsed": true
   },
   "source": [
    "## Good Job!"
   ]
  },
  {
   "cell_type": "code",
   "execution_count": null,
   "metadata": {},
   "outputs": [],
   "source": []
  }
 ],
 "metadata": {
  "kernelspec": {
   "display_name": "Python 3",
   "language": "python",
   "name": "python3"
  },
  "language_info": {
   "codemirror_mode": {
    "name": "ipython",
    "version": 3
   },
   "file_extension": ".py",
   "mimetype": "text/x-python",
   "name": "python",
   "nbconvert_exporter": "python",
   "pygments_lexer": "ipython3",
   "version": "3.7.3"
  }
 },
 "nbformat": 4,
 "nbformat_minor": 1
}
